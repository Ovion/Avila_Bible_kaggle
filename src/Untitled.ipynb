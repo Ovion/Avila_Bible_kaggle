{
 "cells": [
  {
   "cell_type": "code",
   "execution_count": 1,
   "metadata": {},
   "outputs": [
    {
     "name": "stdout",
     "output_type": "stream",
     "text": [
      "Checking whether there is an H2O instance running at http://localhost:54321 ..... not found.\n",
      "Attempting to start a local H2O server...\n",
      "  Java Version: openjdk version \"11.0.5-ea\" 2019-10-15; OpenJDK Runtime Environment (build 11.0.5-ea+10-post-Ubuntu-0ubuntu1); OpenJDK 64-Bit Server VM (build 11.0.5-ea+10-post-Ubuntu-0ubuntu1, mixed mode, sharing)\n",
      "  Starting server from /home/ovi/.local/lib/python3.7/site-packages/h2o/backend/bin/h2o.jar\n",
      "  Ice root: /tmp/tmphbahajc6\n",
      "  JVM stdout: /tmp/tmphbahajc6/h2o_ovi_started_from_python.out\n",
      "  JVM stderr: /tmp/tmphbahajc6/h2o_ovi_started_from_python.err\n",
      "  Server is running at http://127.0.0.1:54321\n",
      "Connecting to H2O server at http://127.0.0.1:54321 ... successful.\n"
     ]
    },
    {
     "data": {
      "text/html": [
       "<div style=\"overflow:auto\"><table style=\"width:50%\"><tr><td>H2O cluster uptime:</td>\n",
       "<td>01 secs</td></tr>\n",
       "<tr><td>H2O cluster timezone:</td>\n",
       "<td>Europe/Madrid</td></tr>\n",
       "<tr><td>H2O data parsing timezone:</td>\n",
       "<td>UTC</td></tr>\n",
       "<tr><td>H2O cluster version:</td>\n",
       "<td>3.26.0.11</td></tr>\n",
       "<tr><td>H2O cluster version age:</td>\n",
       "<td>3 days </td></tr>\n",
       "<tr><td>H2O cluster name:</td>\n",
       "<td>H2O_from_python_ovi_8cmbkx</td></tr>\n",
       "<tr><td>H2O cluster total nodes:</td>\n",
       "<td>1</td></tr>\n",
       "<tr><td>H2O cluster free memory:</td>\n",
       "<td>12 Gb</td></tr>\n",
       "<tr><td>H2O cluster total cores:</td>\n",
       "<td>8</td></tr>\n",
       "<tr><td>H2O cluster allowed cores:</td>\n",
       "<td>8</td></tr>\n",
       "<tr><td>H2O cluster status:</td>\n",
       "<td>accepting new members, healthy</td></tr>\n",
       "<tr><td>H2O connection url:</td>\n",
       "<td>http://127.0.0.1:54321</td></tr>\n",
       "<tr><td>H2O connection proxy:</td>\n",
       "<td>{'http': None, 'https': None}</td></tr>\n",
       "<tr><td>H2O internal security:</td>\n",
       "<td>False</td></tr>\n",
       "<tr><td>H2O API Extensions:</td>\n",
       "<td>Amazon S3, XGBoost, Algos, AutoML, Core V3, TargetEncoder, Core V4</td></tr>\n",
       "<tr><td>Python version:</td>\n",
       "<td>3.7.5 final</td></tr></table></div>"
      ],
      "text/plain": [
       "--------------------------  ------------------------------------------------------------------\n",
       "H2O cluster uptime:         01 secs\n",
       "H2O cluster timezone:       Europe/Madrid\n",
       "H2O data parsing timezone:  UTC\n",
       "H2O cluster version:        3.26.0.11\n",
       "H2O cluster version age:    3 days\n",
       "H2O cluster name:           H2O_from_python_ovi_8cmbkx\n",
       "H2O cluster total nodes:    1\n",
       "H2O cluster free memory:    12 Gb\n",
       "H2O cluster total cores:    8\n",
       "H2O cluster allowed cores:  8\n",
       "H2O cluster status:         accepting new members, healthy\n",
       "H2O connection url:         http://127.0.0.1:54321\n",
       "H2O connection proxy:       {'http': None, 'https': None}\n",
       "H2O internal security:      False\n",
       "H2O API Extensions:         Amazon S3, XGBoost, Algos, AutoML, Core V3, TargetEncoder, Core V4\n",
       "Python version:             3.7.5 final\n",
       "--------------------------  ------------------------------------------------------------------"
      ]
     },
     "metadata": {},
     "output_type": "display_data"
    },
    {
     "name": "stdout",
     "output_type": "stream",
     "text": [
      "Parse progress: |█████████████████████████████████████████████████████████| 100%\n",
      "Parse progress: |█████████████████████████████████████████████████████████| 100%\n",
      "drf Model Build progress: |███████████████████████████████████████████████| 100%\n",
      "drf prediction progress: |████████████████████████████████████████████████| 100%\n"
     ]
    }
   ],
   "source": [
    "import pandas as pd\n",
    "from sklearn.metrics import mean_squared_error\n",
    "\n",
    "import h2o\n",
    "from h2o.automl import H2OAutoML\n",
    "from h2o.estimators.random_forest import H2ORandomForestEstimator as rf\n",
    "\n",
    "h2o.init(nthreads=-1, max_mem_size=12)\n",
    "\n",
    "data = h2o.import_file('../input/training_dataset.csv')\n",
    "pred = h2o.import_file('../input/test_dataset.csv')\n",
    "data = data.drop(['id'], axis=1)\n",
    "\n",
    "splits = data.split_frame(ratios=[0.8], seed=1)\n",
    "train = splits[0]\n",
    "test = splits[1]\n",
    "\n",
    "y = 'scribe'\n",
    "train[y] = train[y].asfactor()\n",
    "test[y] = test[y].asfactor()\n",
    "\n",
    "X_test = pred.drop(['id'], axis=1)\n",
    "\n",
    "aml = rf(ntrees = 500, seed=1, nfolds=0)\n",
    "aml.train(y=y, training_frame=train, validation_frame=test)\n",
    "\n",
    "y_pred = aml.predict(X_test)\n"
   ]
  },
  {
   "cell_type": "code",
   "execution_count": 2,
   "metadata": {},
   "outputs": [
    {
     "data": {
      "text/html": [
       "<table>\n",
       "<thead>\n",
       "<tr><th>predict   </th><th style=\"text-align: right;\">  Begonius</th><th style=\"text-align: right;\">  FerrumEffractarius</th><th style=\"text-align: right;\">  Franciscus</th><th style=\"text-align: right;\">   Marcus</th><th style=\"text-align: right;\">  Noaelius</th><th style=\"text-align: right;\">  Paithonius</th><th style=\"text-align: right;\">  Philippus</th><th style=\"text-align: right;\">   Ubuntius</th></tr>\n",
       "</thead>\n",
       "<tbody>\n",
       "<tr><td>Franciscus</td><td style=\"text-align: right;\">         0</td><td style=\"text-align: right;\">         0.00328343 </td><td style=\"text-align: right;\"> 0.827945   </td><td style=\"text-align: right;\">0.0319806</td><td style=\"text-align: right;\">  0       </td><td style=\"text-align: right;\">  0.121912  </td><td style=\"text-align: right;\"> 0.010939  </td><td style=\"text-align: right;\">0.00394011 </td></tr>\n",
       "<tr><td>Ubuntius  </td><td style=\"text-align: right;\">         0</td><td style=\"text-align: right;\">         0          </td><td style=\"text-align: right;\"> 0          </td><td style=\"text-align: right;\">0.0984368</td><td style=\"text-align: right;\">  0       </td><td style=\"text-align: right;\">  0.0240456 </td><td style=\"text-align: right;\"> 0.10436   </td><td style=\"text-align: right;\">0.773158   </td></tr>\n",
       "<tr><td>Noaelius  </td><td style=\"text-align: right;\">         0</td><td style=\"text-align: right;\">         0          </td><td style=\"text-align: right;\"> 0.0216535  </td><td style=\"text-align: right;\">0        </td><td style=\"text-align: right;\">  0.978346</td><td style=\"text-align: right;\">  0         </td><td style=\"text-align: right;\"> 0         </td><td style=\"text-align: right;\">0          </td></tr>\n",
       "<tr><td>Marcus    </td><td style=\"text-align: right;\">         0</td><td style=\"text-align: right;\">         0          </td><td style=\"text-align: right;\"> 0.00207991 </td><td style=\"text-align: right;\">0.964322 </td><td style=\"text-align: right;\">  0       </td><td style=\"text-align: right;\">  0         </td><td style=\"text-align: right;\"> 0.0332197 </td><td style=\"text-align: right;\">0.000378165</td></tr>\n",
       "<tr><td>Marcus    </td><td style=\"text-align: right;\">         0</td><td style=\"text-align: right;\">         1.32015e-05</td><td style=\"text-align: right;\"> 0.00574924 </td><td style=\"text-align: right;\">0.812173 </td><td style=\"text-align: right;\">  0       </td><td style=\"text-align: right;\">  0.0210806 </td><td style=\"text-align: right;\"> 0.160984  </td><td style=\"text-align: right;\">0          </td></tr>\n",
       "<tr><td>Marcus    </td><td style=\"text-align: right;\">         0</td><td style=\"text-align: right;\">         0          </td><td style=\"text-align: right;\"> 0.000404994</td><td style=\"text-align: right;\">0.92927  </td><td style=\"text-align: right;\">  0       </td><td style=\"text-align: right;\">  0.00404994</td><td style=\"text-align: right;\"> 0.0662749 </td><td style=\"text-align: right;\">0          </td></tr>\n",
       "<tr><td>Marcus    </td><td style=\"text-align: right;\">         0</td><td style=\"text-align: right;\">         0          </td><td style=\"text-align: right;\"> 0.00846447 </td><td style=\"text-align: right;\">0.625936 </td><td style=\"text-align: right;\">  0       </td><td style=\"text-align: right;\">  0.00846447</td><td style=\"text-align: right;\"> 0.331741  </td><td style=\"text-align: right;\">0.0253934  </td></tr>\n",
       "<tr><td>Philippus </td><td style=\"text-align: right;\">         0</td><td style=\"text-align: right;\">         0          </td><td style=\"text-align: right;\"> 0.0376423  </td><td style=\"text-align: right;\">0.0473315</td><td style=\"text-align: right;\">  0       </td><td style=\"text-align: right;\">  0.00204204</td><td style=\"text-align: right;\"> 0.889081  </td><td style=\"text-align: right;\">0.0239034  </td></tr>\n",
       "<tr><td>Noaelius  </td><td style=\"text-align: right;\">         0</td><td style=\"text-align: right;\">         0          </td><td style=\"text-align: right;\"> 0.311936   </td><td style=\"text-align: right;\">0.0303341</td><td style=\"text-align: right;\">  0.637465</td><td style=\"text-align: right;\">  0.0112348 </td><td style=\"text-align: right;\"> 0.00453594</td><td style=\"text-align: right;\">0.00449394 </td></tr>\n",
       "<tr><td>Marcus    </td><td style=\"text-align: right;\">         0</td><td style=\"text-align: right;\">         0          </td><td style=\"text-align: right;\"> 0          </td><td style=\"text-align: right;\">0.952756 </td><td style=\"text-align: right;\">  0       </td><td style=\"text-align: right;\">  0.00197376</td><td style=\"text-align: right;\"> 0.0452366 </td><td style=\"text-align: right;\">3.40304e-05</td></tr>\n",
       "</tbody>\n",
       "</table>"
      ]
     },
     "metadata": {},
     "output_type": "display_data"
    },
    {
     "data": {
      "text/plain": []
     },
     "execution_count": 2,
     "metadata": {},
     "output_type": "execute_result"
    }
   ],
   "source": [
    "y_pred.head()"
   ]
  },
  {
   "cell_type": "code",
   "execution_count": 3,
   "metadata": {},
   "outputs": [
    {
     "data": {
      "text/html": [
       "<table>\n",
       "<thead>\n",
       "<tr><th>predict   </th></tr>\n",
       "</thead>\n",
       "<tbody>\n",
       "<tr><td>Franciscus</td></tr>\n",
       "<tr><td>Ubuntius  </td></tr>\n",
       "<tr><td>Noaelius  </td></tr>\n",
       "<tr><td>Marcus    </td></tr>\n",
       "<tr><td>Marcus    </td></tr>\n",
       "<tr><td>Marcus    </td></tr>\n",
       "<tr><td>Marcus    </td></tr>\n",
       "<tr><td>Philippus </td></tr>\n",
       "<tr><td>Noaelius  </td></tr>\n",
       "<tr><td>Marcus    </td></tr>\n",
       "</tbody>\n",
       "</table>"
      ]
     },
     "metadata": {},
     "output_type": "display_data"
    },
    {
     "data": {
      "text/plain": []
     },
     "execution_count": 3,
     "metadata": {},
     "output_type": "execute_result"
    }
   ],
   "source": [
    "y_pred['predict']"
   ]
  },
  {
   "cell_type": "code",
   "execution_count": null,
   "metadata": {},
   "outputs": [],
   "source": []
  },
  {
   "cell_type": "code",
   "execution_count": 4,
   "metadata": {},
   "outputs": [],
   "source": [
    "\n",
    "submit = pred['id']\n",
    "submit['scribe'] = y_pred['predict']\n",
    "submit = submit.as_data_frame(use_pandas=True)\n",
    "\n",
    "submit.to_csv('../output/submit_aqua_rf.csv', index=False)"
   ]
  },
  {
   "cell_type": "code",
   "execution_count": null,
   "metadata": {},
   "outputs": [],
   "source": []
  },
  {
   "cell_type": "code",
   "execution_count": null,
   "metadata": {},
   "outputs": [],
   "source": []
  }
 ],
 "metadata": {
  "kernelspec": {
   "display_name": "Python 3",
   "language": "python",
   "name": "python3"
  },
  "language_info": {
   "codemirror_mode": {
    "name": "ipython",
    "version": 3
   },
   "file_extension": ".py",
   "mimetype": "text/x-python",
   "name": "python",
   "nbconvert_exporter": "python",
   "pygments_lexer": "ipython3",
   "version": "3.7.5"
  }
 },
 "nbformat": 4,
 "nbformat_minor": 2
}
